{
 "cells": [
  {
   "cell_type": "code",
   "execution_count": 1,
   "metadata": {},
   "outputs": [],
   "source": [
    "# extracting features of a single audio file\n",
    "import os\n",
    "import librosa\n",
    "audio_file_path='audio/fold1/7061-6-0-0.wav'\n",
    "librosa_audio_data,librosa_sample_rate=librosa.load(audio_file_path)"
   ]
  },
  {
   "cell_type": "code",
   "execution_count": 2,
   "metadata": {},
   "outputs": [],
   "source": [
    "import tensorflow as tf"
   ]
  },
  {
   "cell_type": "code",
   "execution_count": 3,
   "metadata": {},
   "outputs": [
    {
     "name": "stdout",
     "output_type": "stream",
     "text": [
      "[0.0000000e+00 0.0000000e+00 0.0000000e+00 ... 1.0231203e-05 2.3116412e-05\n",
      " 0.0000000e+00]\n"
     ]
    }
   ],
   "source": [
    "print(librosa_audio_data)"
   ]
  },
  {
   "cell_type": "code",
   "execution_count": 4,
   "metadata": {},
   "outputs": [
    {
     "data": {
      "text/plain": [
       "22050"
      ]
     },
     "execution_count": 4,
     "metadata": {},
     "output_type": "execute_result"
    }
   ],
   "source": [
    "librosa_sample_rate"
   ]
  },
  {
   "cell_type": "code",
   "execution_count": 5,
   "metadata": {},
   "outputs": [
    {
     "data": {
      "text/plain": [
       "[<matplotlib.lines.Line2D at 0x7f5e4581d4f0>]"
      ]
     },
     "execution_count": 5,
     "metadata": {},
     "output_type": "execute_result"
    },
    {
     "data": {
      "image/png": "[encoded data removed]",
      "text/plain": [
       "<Figure size 432x288 with 1 Axes>"
      ]
     },
     "metadata": {
      "needs_background": "light"
     },
     "output_type": "display_data"
    }
   ],
   "source": [
    "import seaborn as sns\n",
    "import matplotlib.pyplot as plt\n",
    "plt.plot(librosa_audio_data)\n"
   ]
  },
  {
   "cell_type": "code",
   "execution_count": 6,
   "metadata": {},
   "outputs": [],
   "source": [
    "# Extract features using MFCC"
   ]
  },
  {
   "cell_type": "code",
   "execution_count": 7,
   "metadata": {},
   "outputs": [
    {
     "data": {
      "text/plain": [
       "(40, 97)"
      ]
     },
     "execution_count": 7,
     "metadata": {},
     "output_type": "execute_result"
    }
   ],
   "source": [
    "mfccs=librosa.feature.mfcc(y=librosa_audio_data,sr=librosa_sample_rate,n_mfcc=40)\n",
    "mfccs.shape"
   ]
  },
  {
   "cell_type": "code",
   "execution_count": 8,
   "metadata": {},
   "outputs": [
    {
     "data": {
      "text/plain": [
       "array([[-9.3800201e+01,  7.4964676e+00,  1.5476106e+01, ...,\n",
       "        -5.6935333e+02, -5.9172742e+02, -6.1055634e+02],\n",
       "       [ 3.0774033e+01,  2.3719746e+01,  1.1416364e+01, ...,\n",
       "         4.3051193e+01,  2.5888165e+01,  1.2927567e+01],\n",
       "       [-3.2866516e+00, -1.2030355e+01, -1.5005076e+01, ...,\n",
       "        -1.1103722e+01, -7.5504947e+00,  2.2212185e-01],\n",
       "       ...,\n",
       "       [ 6.4266616e-01, -3.2603271e+00, -4.7559175e+00, ...,\n",
       "         2.4095774e+00,  3.1699085e+00, -1.5433559e-01],\n",
       "       [-1.0001831e+01, -9.3599148e+00, -6.4467368e+00, ...,\n",
       "        -5.0200582e-02,  7.2894025e-01, -8.3965683e-01],\n",
       "       [ 1.9421940e+00,  2.0736120e+00,  3.0683596e+00, ...,\n",
       "        -2.0609193e+00, -2.2312040e+00, -1.7239641e+00]], dtype=float32)"
      ]
     },
     "execution_count": 8,
     "metadata": {},
     "output_type": "execute_result"
    }
   ],
   "source": [
    "mfccs"
   ]
  },
  {
   "cell_type": "code",
   "execution_count": 9,
   "metadata": {},
   "outputs": [],
   "source": [
    "# Extracting MFCC for every audio file"
   ]
  },
  {
   "cell_type": "code",
   "execution_count": 10,
   "metadata": {},
   "outputs": [
    {
     "data": {
      "text/html": [
       "<div>\n",
       "<style scoped>\n",
       "    .dataframe tbody tr th:only-of-type {\n",
       "        vertical-align: middle;\n",
       "    }\n",
       "\n",
       "    .dataframe tbody tr th {\n",
       "        vertical-align: top;\n",
       "    }\n",
       "\n",
       "    .dataframe thead th {\n",
       "        text-align: right;\n",
       "    }\n",
       "</style>\n",
       "<table border=\"1\" class=\"dataframe\">\n",
       "  <thead>\n",
       "    <tr style=\"text-align: right;\">\n",
       "      <th></th>\n",
       "      <th>slice_file_name</th>\n",
       "      <th>fsID</th>\n",
       "      <th>start</th>\n",
       "      <th>end</th>\n",
       "      <th>salience</th>\n",
       "      <th>fold</th>\n",
       "      <th>classID</th>\n",
       "      <th>class</th>\n",
       "    </tr>\n",
       "  </thead>\n",
       "  <tbody>\n",
       "    <tr>\n",
       "      <th>0</th>\n",
       "      <td>100032-3-0-0.wav</td>\n",
       "      <td>100032</td>\n",
       "      <td>0.0</td>\n",
       "      <td>0.317551</td>\n",
       "      <td>1</td>\n",
       "      <td>5</td>\n",
       "      <td>3</td>\n",
       "      <td>dog_bark</td>\n",
       "    </tr>\n",
       "    <tr>\n",
       "      <th>1</th>\n",
       "      <td>100263-2-0-117.wav</td>\n",
       "      <td>100263</td>\n",
       "      <td>58.5</td>\n",
       "      <td>62.500000</td>\n",
       "      <td>1</td>\n",
       "      <td>5</td>\n",
       "      <td>2</td>\n",
       "      <td>children_playing</td>\n",
       "    </tr>\n",
       "    <tr>\n",
       "      <th>2</th>\n",
       "      <td>100263-2-0-121.wav</td>\n",
       "      <td>100263</td>\n",
       "      <td>60.5</td>\n",
       "      <td>64.500000</td>\n",
       "      <td>1</td>\n",
       "      <td>5</td>\n",
       "      <td>2</td>\n",
       "      <td>children_playing</td>\n",
       "    </tr>\n",
       "    <tr>\n",
       "      <th>3</th>\n",
       "      <td>100263-2-0-126.wav</td>\n",
       "      <td>100263</td>\n",
       "      <td>63.0</td>\n",
       "      <td>67.000000</td>\n",
       "      <td>1</td>\n",
       "      <td>5</td>\n",
       "      <td>2</td>\n",
       "      <td>children_playing</td>\n",
       "    </tr>\n",
       "    <tr>\n",
       "      <th>4</th>\n",
       "      <td>100263-2-0-137.wav</td>\n",
       "      <td>100263</td>\n",
       "      <td>68.5</td>\n",
       "      <td>72.500000</td>\n",
       "      <td>1</td>\n",
       "      <td>5</td>\n",
       "      <td>2</td>\n",
       "      <td>children_playing</td>\n",
       "    </tr>\n",
       "  </tbody>\n",
       "</table>\n",
       "</div>"
      ],
      "text/plain": [
       "      slice_file_name    fsID  start        end  salience  fold  classID  \\\n",
       "0    100032-3-0-0.wav  100032    0.0   0.317551         1     5        3   \n",
       "1  100263-2-0-117.wav  100263   58.5  62.500000         1     5        2   \n",
       "2  100263-2-0-121.wav  100263   60.5  64.500000         1     5        2   \n",
       "3  100263-2-0-126.wav  100263   63.0  67.000000         1     5        2   \n",
       "4  100263-2-0-137.wav  100263   68.5  72.500000         1     5        2   \n",
       "\n",
       "              class  \n",
       "0          dog_bark  \n",
       "1  children_playing  \n",
       "2  children_playing  \n",
       "3  children_playing  \n",
       "4  children_playing  "
      ]
     },
     "execution_count": 10,
     "metadata": {},
     "output_type": "execute_result"
    }
   ],
   "source": [
    "import pandas as pd\n",
    "import os\n",
    "\n",
    "audio_dataset_path='audio/'\n",
    "metadata=pd.read_csv('metadata/UrbanSound8K.csv')\n",
    "metadata.head()"
   ]
  },
  {
   "cell_type": "code",
   "execution_count": 11,
   "metadata": {},
   "outputs": [],
   "source": [
    "def features_extractor(file_name):\n",
    "    audio,sample_rate=librosa.load(file_name,res_type='kaiser_fast')\n",
    "    mfccs_features=librosa.feature.mfcc(y=audio,sr=sample_rate,n_mfcc=40)\n",
    "    mfccs_scaled_features=np.mean(mfccs_features.T,axis=0)\n",
    "    return mfccs_scaled_features"
   ]
  },
  {
   "cell_type": "code",
   "execution_count": 12,
   "metadata": {},
   "outputs": [
    {
     "name": "stderr",
     "output_type": "stream",
     "text": [
      "3555it [13:08,  4.54it/s]/home/kali/.local/lib/python3.9/site-packages/librosa/core/spectrum.py:222: UserWarning: n_fft=2048 is too small for input signal of length=1323\n",
      "  warnings.warn(\n",
      "8325it [30:23,  6.08it/s]/home/kali/.local/lib/python3.9/site-packages/librosa/core/spectrum.py:222: UserWarning: n_fft=2048 is too small for input signal of length=1103\n",
      "  warnings.warn(\n",
      "8329it [30:23,  8.10it/s]/home/kali/.local/lib/python3.9/site-packages/librosa/core/spectrum.py:222: UserWarning: n_fft=2048 is too small for input signal of length=1523\n",
      "  warnings.warn(\n",
      "8732it [31:45,  4.58it/s]\n"
     ]
    }
   ],
   "source": [
    "import numpy as np\n",
    "from tqdm import tqdm\n",
    "extracted_features=[]\n",
    "for index_num,row in tqdm(metadata.iterrows()):\n",
    "    file_name=os.path.join(os.path.abspath(audio_dataset_path),'fold'+str(row['fold'])+'/',str(row['slice_file_name']))\n",
    "    final_class_labels=row['class']\n",
    "    data=features_extractor(file_name)\n",
    "    extracted_features.append([data,final_class_labels])\n",
    "    "
   ]
  },
  {
   "cell_type": "code",
   "execution_count": 13,
   "metadata": {
    "scrolled": true
   },
   "outputs": [
    {
     "data": {
      "text/html": [
       "<div>\n",
       "<style scoped>\n",
       "    .dataframe tbody tr th:only-of-type {\n",
       "        vertical-align: middle;\n",
       "    }\n",
       "\n",
       "    .dataframe tbody tr th {\n",
       "        vertical-align: top;\n",
       "    }\n",
       "\n",
       "    .dataframe thead th {\n",
       "        text-align: right;\n",
       "    }\n",
       "</style>\n",
       "<table border=\"1\" class=\"dataframe\">\n",
       "  <thead>\n",
       "    <tr style=\"text-align: right;\">\n",
       "      <th></th>\n",
       "      <th>feature</th>\n",
       "      <th>class</th>\n",
       "    </tr>\n",
       "  </thead>\n",
       "  <tbody>\n",
       "    <tr>\n",
       "      <th>0</th>\n",
       "      <td>[-215.79301, 71.66612, -131.81377, -52.091328,...</td>\n",
       "      <td>dog_bark</td>\n",
       "    </tr>\n",
       "    <tr>\n",
       "      <th>1</th>\n",
       "      <td>[-424.68677, 110.56227, -54.148235, 62.01074, ...</td>\n",
       "      <td>children_playing</td>\n",
       "    </tr>\n",
       "    <tr>\n",
       "      <th>2</th>\n",
       "      <td>[-459.56467, 122.80034, -47.92471, 53.265694, ...</td>\n",
       "      <td>children_playing</td>\n",
       "    </tr>\n",
       "    <tr>\n",
       "      <th>3</th>\n",
       "      <td>[-414.55377, 102.896904, -36.664955, 54.18041,...</td>\n",
       "      <td>children_playing</td>\n",
       "    </tr>\n",
       "    <tr>\n",
       "      <th>4</th>\n",
       "      <td>[-447.397, 115.0954, -53.809113, 61.608585, 1....</td>\n",
       "      <td>children_playing</td>\n",
       "    </tr>\n",
       "  </tbody>\n",
       "</table>\n",
       "</div>"
      ],
      "text/plain": [
       "                                             feature             class\n",
       "0  [-215.79301, 71.66612, -131.81377, -52.091328,...          dog_bark\n",
       "1  [-424.68677, 110.56227, -54.148235, 62.01074, ...  children_playing\n",
       "2  [-459.56467, 122.80034, -47.92471, 53.265694, ...  children_playing\n",
       "3  [-414.55377, 102.896904, -36.664955, 54.18041,...  children_playing\n",
       "4  [-447.397, 115.0954, -53.809113, 61.608585, 1....  children_playing"
      ]
     },
     "execution_count": 13,
     "metadata": {},
     "output_type": "execute_result"
    }
   ],
   "source": [
    "#convert extracted features to pandas dataframe\n",
    "\n",
    "extracted_features_df=pd.DataFrame(extracted_features,columns=['feature','class'])\n",
    "extracted_features_df.head()"
   ]
  },
  {
   "cell_type": "code",
   "execution_count": 14,
   "metadata": {},
   "outputs": [],
   "source": [
    "#split dataset\n",
    "X=np.array(extracted_features_df['feature'].tolist())\n",
    "y=np.array(extracted_features_df['class'].tolist())"
   ]
  },
  {
   "cell_type": "code",
   "execution_count": 15,
   "metadata": {
    "scrolled": true
   },
   "outputs": [
    {
     "data": {
      "text/plain": [
       "(8732, 40)"
      ]
     },
     "execution_count": 15,
     "metadata": {},
     "output_type": "execute_result"
    }
   ],
   "source": [
    "X.shape"
   ]
  },
  {
   "cell_type": "code",
   "execution_count": 16,
   "metadata": {},
   "outputs": [
    {
     "data": {
      "text/plain": [
       "array([[-2.1579301e+02,  7.1666122e+01, -1.3181377e+02, ...,\n",
       "        -1.6827592e+00, -8.8585865e-01,  3.5438886e-01],\n",
       "       [-4.2468677e+02,  1.1056227e+02, -5.4148235e+01, ...,\n",
       "         6.1740851e-01, -6.8497419e-01,  5.7151443e-01],\n",
       "       [-4.5956467e+02,  1.2280034e+02, -4.7924709e+01, ...,\n",
       "         2.2254140e+00,  1.5466180e+00, -8.3631569e-01],\n",
       "       ...,\n",
       "       [-3.0461316e+02,  1.1261990e+02, -4.7161945e+01, ...,\n",
       "        -3.0335813e+00,  2.7105730e+00,  7.6718950e+00],\n",
       "       [-3.4471423e+02,  1.2675813e+02, -5.6177170e+01, ...,\n",
       "        -7.8022585e+00, -1.7790737e+00,  5.8354192e+00],\n",
       "       [-3.1593384e+02,  9.5675888e+01, -3.8047771e+01, ...,\n",
       "         5.7758039e-01, -1.1463765e+01, -5.9653535e+00]], dtype=float32)"
      ]
     },
     "execution_count": 16,
     "metadata": {},
     "output_type": "execute_result"
    }
   ],
   "source": [
    "X"
   ]
  },
  {
   "cell_type": "code",
   "execution_count": 17,
   "metadata": {},
   "outputs": [
    {
     "data": {
      "text/plain": [
       "array(['dog_bark', 'children_playing', 'children_playing', ...,\n",
       "       'car_horn', 'car_horn', 'car_horn'], dtype='<U16')"
      ]
     },
     "execution_count": 17,
     "metadata": {},
     "output_type": "execute_result"
    }
   ],
   "source": [
    "y"
   ]
  },
  {
   "cell_type": "code",
   "execution_count": 18,
   "metadata": {},
   "outputs": [
    {
     "data": {
      "text/plain": [
       "(8732,)"
      ]
     },
     "execution_count": 18,
     "metadata": {},
     "output_type": "execute_result"
    }
   ],
   "source": [
    "y.shape"
   ]
  },
  {
   "cell_type": "code",
   "execution_count": 19,
   "metadata": {},
   "outputs": [],
   "source": [
    "#onehotencoding\n",
    "from sklearn.preprocessing import OneHotEncoder\n",
    "enc=OneHotEncoder()\n",
    "y=enc.fit_transform(y.reshape(-1,1)).toarray()"
   ]
  },
  {
   "cell_type": "code",
   "execution_count": 20,
   "metadata": {},
   "outputs": [
    {
     "data": {
      "text/plain": [
       "(8732, 10)"
      ]
     },
     "execution_count": 20,
     "metadata": {},
     "output_type": "execute_result"
    }
   ],
   "source": [
    "y.shape"
   ]
  },
  {
   "cell_type": "code",
   "execution_count": 21,
   "metadata": {},
   "outputs": [
    {
     "data": {
      "text/plain": [
       "array([[0., 0., 0., ..., 0., 0., 0.],\n",
       "       [0., 0., 1., ..., 0., 0., 0.],\n",
       "       [0., 0., 1., ..., 0., 0., 0.],\n",
       "       ...,\n",
       "       [0., 1., 0., ..., 0., 0., 0.],\n",
       "       [0., 1., 0., ..., 0., 0., 0.],\n",
       "       [0., 1., 0., ..., 0., 0., 0.]])"
      ]
     },
     "execution_count": 21,
     "metadata": {},
     "output_type": "execute_result"
    }
   ],
   "source": [
    "y"
   ]
  },
  {
   "cell_type": "code",
   "execution_count": 22,
   "metadata": {},
   "outputs": [],
   "source": [
    "# train test split\n",
    "from sklearn.model_selection import train_test_split\n",
    "X_train,X_test,y_train,y_test=train_test_split(X,y,test_size=0.2,random_state=0)"
   ]
  },
  {
   "cell_type": "code",
   "execution_count": 23,
   "metadata": {},
   "outputs": [
    {
     "data": {
      "text/plain": [
       "(6985, 40)"
      ]
     },
     "execution_count": 23,
     "metadata": {},
     "output_type": "execute_result"
    }
   ],
   "source": [
    "X_train.shape"
   ]
  },
  {
   "cell_type": "code",
   "execution_count": 24,
   "metadata": {},
   "outputs": [
    {
     "data": {
      "text/plain": [
       "(1747, 40)"
      ]
     },
     "execution_count": 24,
     "metadata": {},
     "output_type": "execute_result"
    }
   ],
   "source": [
    "X_test.shape"
   ]
  },
  {
   "cell_type": "code",
   "execution_count": 25,
   "metadata": {},
   "outputs": [
    {
     "data": {
      "text/plain": [
       "(6985, 10)"
      ]
     },
     "execution_count": 25,
     "metadata": {},
     "output_type": "execute_result"
    }
   ],
   "source": [
    "y_train.shape"
   ]
  },
  {
   "cell_type": "code",
   "execution_count": 26,
   "metadata": {},
   "outputs": [
    {
     "data": {
      "text/plain": [
       "(1747, 10)"
      ]
     },
     "execution_count": 26,
     "metadata": {},
     "output_type": "execute_result"
    }
   ],
   "source": [
    "y_test.shape"
   ]
  },
  {
   "cell_type": "markdown",
   "metadata": {},
   "source": [
    "# Model Creation"
   ]
  },
  {
   "cell_type": "code",
   "execution_count": 27,
   "metadata": {},
   "outputs": [],
   "source": [
    "from sklearn import metrics\n",
    "from tensorflow.keras.models import Sequential\n",
    "from tensorflow.keras.layers import Dense,Dropout,Activation,Flatten\n",
    "from tensorflow.keras.optimizers import Adam"
   ]
  },
  {
   "cell_type": "code",
   "execution_count": 28,
   "metadata": {},
   "outputs": [
    {
     "name": "stdout",
     "output_type": "stream",
     "text": [
      "10\n"
     ]
    }
   ],
   "source": [
    "# number of classes\n",
    "num_labels=y.shape[1]\n",
    "print(num_labels)"
   ]
  },
  {
   "cell_type": "code",
   "execution_count": 29,
   "metadata": {},
   "outputs": [
    {
     "name": "stdout",
     "output_type": "stream",
     "text": [
      "Model: \"sequential\"\n",
      "_________________________________________________________________\n",
      "Layer (type)                 Output Shape              Param #   \n",
      "=================================================================\n",
      "dense (Dense)                (None, 100)               4100      \n",
      "_________________________________________________________________\n",
      "activation (Activation)      (None, 100)               0         \n",
      "_________________________________________________________________\n",
      "dropout (Dropout)            (None, 100)               0         \n",
      "_________________________________________________________________\n",
      "dense_1 (Dense)              (None, 200)               20200     \n",
      "_________________________________________________________________\n",
      "activation_1 (Activation)    (None, 200)               0         \n",
      "_________________________________________________________________\n",
      "dropout_1 (Dropout)          (None, 200)               0         \n",
      "_________________________________________________________________\n",
      "dense_2 (Dense)              (None, 100)               20100     \n",
      "_________________________________________________________________\n",
      "activation_2 (Activation)    (None, 100)               0         \n",
      "_________________________________________________________________\n",
      "dropout_2 (Dropout)          (None, 100)               0         \n",
      "_________________________________________________________________\n",
      "dense_3 (Dense)              (None, 10)                1010      \n",
      "_________________________________________________________________\n",
      "activation_3 (Activation)    (None, 10)                0         \n",
      "=================================================================\n",
      "Total params: 45,410\n",
      "Trainable params: 45,410\n",
      "Non-trainable params: 0\n",
      "_________________________________________________________________\n"
     ]
    }
   ],
   "source": [
    "model=Sequential()\n",
    "#first layer\n",
    "model.add(Dense(100,input_shape=(40,)))\n",
    "model.add(Activation('relu'))\n",
    "model.add(Dropout(0.2))\n",
    "#2nd layer\n",
    "model.add(Dense(200))\n",
    "model.add(Activation('relu'))\n",
    "model.add(Dropout(0.2))\n",
    "#3rd layer\n",
    "model.add(Dense(100))\n",
    "model.add(Activation('relu'))\n",
    "model.add(Dropout(0.2))\n",
    "#final layer\n",
    "model.add(Dense(num_labels))\n",
    "model.add(Activation('softmax'))\n",
    "model.summary()"
   ]
  },
  {
   "cell_type": "code",
   "execution_count": 30,
   "metadata": {},
   "outputs": [],
   "source": [
    "model.compile(loss='categorical_crossentropy',metrics=['accuracy'],optimizer='adam')"
   ]
  },
  {
   "cell_type": "code",
   "execution_count": 31,
   "metadata": {},
   "outputs": [
    {
     "name": "stdout",
     "output_type": "stream",
     "text": [
      "Epoch 1/50\n",
      "219/219 [==============================] - 8s 10ms/step - loss: 4.1871 - accuracy: 0.1722 - val_loss: 2.0905 - val_accuracy: 0.2404\n",
      "Epoch 2/50\n",
      "219/219 [==============================] - 2s 8ms/step - loss: 2.0680 - accuracy: 0.2424 - val_loss: 1.8188 - val_accuracy: 0.3183\n",
      "Epoch 3/50\n",
      "219/219 [==============================] - 2s 8ms/step - loss: 1.8589 - accuracy: 0.3061 - val_loss: 1.6538 - val_accuracy: 0.3875\n",
      "Epoch 4/50\n",
      "219/219 [==============================] - 2s 8ms/step - loss: 1.7412 - accuracy: 0.3526 - val_loss: 1.5650 - val_accuracy: 0.4013\n",
      "Epoch 5/50\n",
      "219/219 [==============================] - 2s 8ms/step - loss: 1.6596 - accuracy: 0.3913 - val_loss: 1.4633 - val_accuracy: 0.4762\n",
      "Epoch 6/50\n",
      "219/219 [==============================] - 2s 8ms/step - loss: 1.5581 - accuracy: 0.4302 - val_loss: 1.3495 - val_accuracy: 0.5426\n",
      "Epoch 7/50\n",
      "219/219 [==============================] - 2s 9ms/step - loss: 1.4597 - accuracy: 0.4810 - val_loss: 1.2627 - val_accuracy: 0.5695\n",
      "Epoch 8/50\n",
      "219/219 [==============================] - 2s 8ms/step - loss: 1.3494 - accuracy: 0.5190 - val_loss: 1.1236 - val_accuracy: 0.6090\n",
      "Epoch 9/50\n",
      "219/219 [==============================] - 2s 8ms/step - loss: 1.2517 - accuracy: 0.5651 - val_loss: 1.0376 - val_accuracy: 0.6468\n",
      "Epoch 10/50\n",
      "219/219 [==============================] - 2s 8ms/step - loss: 1.1712 - accuracy: 0.5878 - val_loss: 0.9489 - val_accuracy: 0.6869\n",
      "Epoch 11/50\n",
      "219/219 [==============================] - 2s 8ms/step - loss: 1.1004 - accuracy: 0.6203 - val_loss: 0.9051 - val_accuracy: 0.7132\n",
      "Epoch 12/50\n",
      "219/219 [==============================] - 2s 8ms/step - loss: 1.0410 - accuracy: 0.6448 - val_loss: 0.8594 - val_accuracy: 0.7224\n",
      "Epoch 13/50\n",
      "219/219 [==============================] - 2s 8ms/step - loss: 0.9896 - accuracy: 0.6639 - val_loss: 0.8115 - val_accuracy: 0.7367\n",
      "Epoch 14/50\n",
      "219/219 [==============================] - 2s 7ms/step - loss: 0.9494 - accuracy: 0.6766 - val_loss: 0.7704 - val_accuracy: 0.7476\n",
      "Epoch 15/50\n",
      "219/219 [==============================] - 2s 8ms/step - loss: 0.9004 - accuracy: 0.6949 - val_loss: 0.7292 - val_accuracy: 0.7642\n",
      "Epoch 16/50\n",
      "219/219 [==============================] - 2s 8ms/step - loss: 0.8596 - accuracy: 0.7032 - val_loss: 0.6939 - val_accuracy: 0.7728\n",
      "Epoch 17/50\n",
      "219/219 [==============================] - 2s 8ms/step - loss: 0.8144 - accuracy: 0.7236 - val_loss: 0.6587 - val_accuracy: 0.7905\n",
      "Epoch 18/50\n",
      "219/219 [==============================] - 2s 9ms/step - loss: 0.7836 - accuracy: 0.7382 - val_loss: 0.6465 - val_accuracy: 0.7888\n",
      "Epoch 19/50\n",
      "219/219 [==============================] - 2s 8ms/step - loss: 0.7669 - accuracy: 0.7376 - val_loss: 0.6262 - val_accuracy: 0.7894\n",
      "Epoch 20/50\n",
      "219/219 [==============================] - 2s 8ms/step - loss: 0.7280 - accuracy: 0.7525 - val_loss: 0.5870 - val_accuracy: 0.8025\n",
      "Epoch 21/50\n",
      "219/219 [==============================] - 2s 8ms/step - loss: 0.7156 - accuracy: 0.7553 - val_loss: 0.5777 - val_accuracy: 0.8060\n",
      "Epoch 22/50\n",
      "219/219 [==============================] - 2s 8ms/step - loss: 0.6851 - accuracy: 0.7709 - val_loss: 0.5733 - val_accuracy: 0.8163\n",
      "Epoch 23/50\n",
      "219/219 [==============================] - 2s 8ms/step - loss: 0.6646 - accuracy: 0.7751 - val_loss: 0.5366 - val_accuracy: 0.8323\n",
      "Epoch 24/50\n",
      "219/219 [==============================] - 2s 8ms/step - loss: 0.6393 - accuracy: 0.7821 - val_loss: 0.5420 - val_accuracy: 0.8271\n",
      "Epoch 25/50\n",
      "219/219 [==============================] - 2s 8ms/step - loss: 0.6314 - accuracy: 0.7837 - val_loss: 0.5392 - val_accuracy: 0.8174\n",
      "Epoch 26/50\n",
      "219/219 [==============================] - 2s 8ms/step - loss: 0.6155 - accuracy: 0.7895 - val_loss: 0.4905 - val_accuracy: 0.8374\n",
      "Epoch 27/50\n",
      "219/219 [==============================] - 2s 8ms/step - loss: 0.5786 - accuracy: 0.8034 - val_loss: 0.5107 - val_accuracy: 0.8386\n",
      "Epoch 28/50\n",
      "219/219 [==============================] - 2s 8ms/step - loss: 0.5859 - accuracy: 0.8019 - val_loss: 0.4993 - val_accuracy: 0.8403\n",
      "Epoch 29/50\n",
      "219/219 [==============================] - 2s 8ms/step - loss: 0.5627 - accuracy: 0.8107 - val_loss: 0.4686 - val_accuracy: 0.8443\n",
      "Epoch 30/50\n",
      "219/219 [==============================] - 2s 8ms/step - loss: 0.5491 - accuracy: 0.8147 - val_loss: 0.4910 - val_accuracy: 0.8432\n",
      "Epoch 31/50\n",
      "219/219 [==============================] - 2s 8ms/step - loss: 0.5447 - accuracy: 0.8080 - val_loss: 0.4574 - val_accuracy: 0.8529\n",
      "Epoch 32/50\n",
      "219/219 [==============================] - 2s 8ms/step - loss: 0.5390 - accuracy: 0.8175 - val_loss: 0.4833 - val_accuracy: 0.8495\n",
      "Epoch 33/50\n",
      "219/219 [==============================] - 2s 8ms/step - loss: 0.5298 - accuracy: 0.8193 - val_loss: 0.4495 - val_accuracy: 0.8489\n",
      "Epoch 34/50\n",
      "219/219 [==============================] - 2s 9ms/step - loss: 0.4934 - accuracy: 0.8315 - val_loss: 0.4462 - val_accuracy: 0.8523\n",
      "Epoch 35/50\n",
      "219/219 [==============================] - 2s 9ms/step - loss: 0.4957 - accuracy: 0.8349 - val_loss: 0.4390 - val_accuracy: 0.8552\n",
      "Epoch 36/50\n",
      "219/219 [==============================] - 2s 8ms/step - loss: 0.5029 - accuracy: 0.8279 - val_loss: 0.4365 - val_accuracy: 0.8661\n",
      "Epoch 37/50\n",
      "219/219 [==============================] - 2s 8ms/step - loss: 0.4665 - accuracy: 0.8296 - val_loss: 0.4193 - val_accuracy: 0.8741\n",
      "Epoch 38/50\n",
      "219/219 [==============================] - 2s 8ms/step - loss: 0.4618 - accuracy: 0.8455 - val_loss: 0.4310 - val_accuracy: 0.8620\n",
      "Epoch 39/50\n",
      "219/219 [==============================] - 2s 9ms/step - loss: 0.4529 - accuracy: 0.8461 - val_loss: 0.4208 - val_accuracy: 0.8724\n",
      "Epoch 40/50\n",
      "219/219 [==============================] - 2s 8ms/step - loss: 0.4592 - accuracy: 0.8394 - val_loss: 0.4302 - val_accuracy: 0.8529\n",
      "Epoch 41/50\n",
      "219/219 [==============================] - 2s 8ms/step - loss: 0.4514 - accuracy: 0.8440 - val_loss: 0.4413 - val_accuracy: 0.8666\n",
      "Epoch 42/50\n",
      "219/219 [==============================] - 2s 8ms/step - loss: 0.4328 - accuracy: 0.8515 - val_loss: 0.4148 - val_accuracy: 0.8729\n",
      "Epoch 43/50\n",
      "219/219 [==============================] - 2s 8ms/step - loss: 0.4274 - accuracy: 0.8518 - val_loss: 0.3975 - val_accuracy: 0.8769\n",
      "Epoch 44/50\n",
      "219/219 [==============================] - 2s 8ms/step - loss: 0.4437 - accuracy: 0.8531 - val_loss: 0.4085 - val_accuracy: 0.8809\n",
      "Epoch 45/50\n",
      "219/219 [==============================] - 2s 8ms/step - loss: 0.4299 - accuracy: 0.8507 - val_loss: 0.4120 - val_accuracy: 0.8701\n",
      "Epoch 46/50\n",
      "219/219 [==============================] - 2s 8ms/step - loss: 0.4210 - accuracy: 0.8518 - val_loss: 0.3842 - val_accuracy: 0.8764\n",
      "Epoch 47/50\n",
      "219/219 [==============================] - 2s 8ms/step - loss: 0.4227 - accuracy: 0.8580 - val_loss: 0.4046 - val_accuracy: 0.8752\n",
      "Epoch 48/50\n",
      "219/219 [==============================] - 2s 8ms/step - loss: 0.4090 - accuracy: 0.8643 - val_loss: 0.3921 - val_accuracy: 0.8724\n",
      "Epoch 49/50\n",
      "219/219 [==============================] - 2s 8ms/step - loss: 0.4049 - accuracy: 0.8617 - val_loss: 0.4084 - val_accuracy: 0.8769\n",
      "Epoch 50/50\n",
      "219/219 [==============================] - 2s 8ms/step - loss: 0.4012 - accuracy: 0.8626 - val_loss: 0.3895 - val_accuracy: 0.8775\n"
     ]
    },
    {
     "data": {
      "text/plain": [
       "<tensorflow.python.keras.callbacks.History at 0x7f5e44259460>"
      ]
     },
     "execution_count": 31,
     "metadata": {},
     "output_type": "execute_result"
    }
   ],
   "source": [
    "# training the model\n",
    "num_epochs=50\n",
    "num_batch_size=32\n",
    "model.fit(X_train,y_train,batch_size=num_batch_size,epochs=num_epochs,validation_data=(X_test,y_test))"
   ]
  },
  {
   "cell_type": "code",
   "execution_count": 32,
   "metadata": {},
   "outputs": [
    {
     "data": {
      "text/plain": [
       "[0.3894874155521393, 0.877504289150238]"
      ]
     },
     "execution_count": 32,
     "metadata": {},
     "output_type": "execute_result"
    }
   ],
   "source": [
    "model.evaluate(X_test,y_test,verbose=0)"
   ]
  },
  {
   "cell_type": "code",
   "execution_count": 33,
   "metadata": {},
   "outputs": [
    {
     "data": {
      "text/plain": [
       "array([['children_playing']], dtype='<U16')"
      ]
     },
     "execution_count": 33,
     "metadata": {},
     "output_type": "execute_result"
    }
   ],
   "source": [
    "filename='audio/fold7/6902-2-0-4.wav'\n",
    "prediction_features=features_extractor(filename)\n",
    "p=prediction_features.reshape(1,-1)\n",
    "p=model.predict(p)\n",
    "p\n",
    "\n",
    "enc.inverse_transform(p)"
   ]
  },
  {
   "cell_type": "code",
   "execution_count": 34,
   "metadata": {},
   "outputs": [],
   "source": [
    "if os.path.isfile('urbansound8k.h5') is False:\n",
    "    model.save('urbansound8k.h5')"
   ]
  },
  {
   "cell_type": "code",
   "execution_count": 35,
   "metadata": {},
   "outputs": [],
   "source": [
    "import joblib\n",
    "if os.path.isfile('enc.joblib') is False:\n",
    "    joblib.dump(enc,\"enc.joblib\")"
   ]
  },
  {
   "cell_type": "code",
   "execution_count": null,
   "metadata": {},
   "outputs": [],
   "source": []
  }
 ],
 "metadata": {
  "kernelspec": {
   "display_name": "Python 3",
   "language": "python",
   "name": "python3"
  },
  "language_info": {
   "codemirror_mode": {
    "name": "ipython",
    "version": 3
   },
   "file_extension": ".py",
   "mimetype": "text/x-python",
   "name": "python",
   "nbconvert_exporter": "python",
   "pygments_lexer": "ipython3",
   "version": "3.9.2"
  }
 },
 "nbformat": 4,
 "nbformat_minor": 4
}
